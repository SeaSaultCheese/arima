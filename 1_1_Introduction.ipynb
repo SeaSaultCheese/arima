{
  "cells": [
    {
      "cell_type": "markdown",
      "metadata": {
        "id": "view-in-github",
        "colab_type": "text"
      },
      "source": [
        "<a href=\"https://colab.research.google.com/github/SeaSaultCheese/arima/blob/master/1_1_Introduction.ipynb\" target=\"_parent\"><img src=\"https://colab.research.google.com/assets/colab-badge.svg\" alt=\"Open In Colab\"/></a>"
      ]
    },
    {
      "cell_type": "markdown",
      "id": "2576b9a3-6056-4307-8b4a-b4ca771276c7",
      "metadata": {
        "tags": [],
        "id": "2576b9a3-6056-4307-8b4a-b4ca771276c7"
      },
      "source": [
        "> ### Python workshop\n",
        "> ## **_1-1. Introduction_**"
      ]
    },
    {
      "cell_type": "markdown",
      "id": "3b28350b",
      "metadata": {
        "id": "3b28350b"
      },
      "source": [
        "# About the workshop"
      ]
    },
    {
      "cell_type": "markdown",
      "id": "adb7494b-f5e2-4240-83e1-836217d8e58c",
      "metadata": {
        "tags": [],
        "id": "adb7494b-f5e2-4240-83e1-836217d8e58c"
      },
      "source": [
        "## Workshop objectives\n",
        "\n",
        "- Understand the basis of programming.\n",
        "- Learn how to program with Python.\n",
        "- Be able to learn other programming languages by yourselves."
      ]
    },
    {
      "cell_type": "markdown",
      "id": "6cf5e21e-bfbb-4c1d-95cc-916aba917152",
      "metadata": {
        "tags": [],
        "id": "6cf5e21e-bfbb-4c1d-95cc-916aba917152"
      },
      "source": [
        "## Plan\n",
        "\n",
        "| Day | Topic | Details |\n",
        "| --- | ---   | ---     |\n",
        "| **Day 1** | _Introduction_ | <ul><li>Language syntax, variables, basic I/O</li><li>Control structures</li></ul> |\n",
        "| **Day 2** | _Working with data_ | <ul><li>Data Structures</li><li>String and String formatting</li></ul> |\n",
        "| **Day 3** | _Advanced topics_ | <ul><li>Functions and classes</li><li>Data manipulation and visualization</li></ul> |"
      ]
    },
    {
      "cell_type": "markdown",
      "id": "2f5f937c-f81c-4551-9c40-f4a191faa255",
      "metadata": {
        "tags": [],
        "id": "2f5f937c-f81c-4551-9c40-f4a191faa255"
      },
      "source": [
        "## Course materials\n",
        "\n",
        "All materials can be accessed through our Moodle page.\n",
        "\n",
        "- Links to notes on Google Colab. You can also use the PDF version.\n",
        "- Files created in demonstration\n",
        "- Links to recordings"
      ]
    },
    {
      "cell_type": "markdown",
      "id": "96873a35-581c-4b5e-b439-41d2436f49f7",
      "metadata": {
        "tags": [],
        "id": "96873a35-581c-4b5e-b439-41d2436f49f7"
      },
      "source": [
        "## Workshop format\n",
        "\n",
        "- This workshop is designed to encourage self-learning. For each topic, there are 3 major components:\n",
        "  1. Quick topic introduction and demonstrations.\n",
        "  2. Self-learning materials with self-evaluation exercises**.\n",
        "  3. Extended self-learning materials for future reading.\n",
        "\n",
        "** For students who needs to pass the workshop, you must complete the self-evaluation exercises (with grades received) on Moodle."
      ]
    },
    {
      "cell_type": "markdown",
      "id": "929debe5-b8e3-4a9c-b631-43951707ef0d",
      "metadata": {
        "tags": [],
        "id": "929debe5-b8e3-4a9c-b631-43951707ef0d"
      },
      "source": [
        "## Self-evaluation: Quiz\n",
        "  \n",
        "You must provide an answer that could be recognized by Moodle to receive a grade. For questions that asks for python code, please provide the shortest possible answer (e.g., remove spaces between variables and operators).\n",
        "\n",
        "You will be able to re-attempt the quiz after submission.\n",
        "\n",
        "  "
      ]
    },
    {
      "cell_type": "markdown",
      "id": "f32f839b",
      "metadata": {
        "id": "f32f839b"
      },
      "source": [
        "## Self-evaluation: VPL exercises\n",
        "  \n",
        "- VPL is a coding environment on Moodle that runs and evaluates your code. In these exercise, your code must provide an **exact** output according to the specific inputs. You need to press the \"evaluate\" button to check your code. Make sure you have received a grade after evaluation.\n",
        "    - All **input** to the program must be handled by using `input()`. New test cases may be added after you have submitted your program.\n",
        "    - The **output** must match exactly with the required output format. E.g., `Hello, world!` is considered a different output from `hello, world!` or `Hello,world!`.\n",
        "    - You are advised to setup your own environment for you coding practices. The VPL is only for self-evaluation purpose.\n",
        "  \n",
        "- Demo exercises and optional exercises will not be available on Moodle. You are advised to set up your own environment to write/test Python programs.\n",
        "\n",
        "  "
      ]
    },
    {
      "cell_type": "markdown",
      "id": "313ed24e",
      "metadata": {
        "id": "313ed24e"
      },
      "source": [
        "# Programming environment"
      ]
    },
    {
      "cell_type": "markdown",
      "id": "b6a107b9-14d0-4df7-9daf-4c9e77428249",
      "metadata": {
        "tags": [],
        "id": "b6a107b9-14d0-4df7-9daf-4c9e77428249"
      },
      "source": [
        "## Installing Python\n",
        "\n",
        "- In this workshop we will be using the Python version 3.12.\n",
        "  - Downloadable at <https://www.python.org/>.\n",
        "  - Google Colab may use an older version of Python (3.10 as of June 2024), but it doesn't matter as most of the materials run well in Python 3.10+ .\n",
        "\n",
        "- Once you have installed Python, you should be able to run python in a terminal on your machine. In most cases, the command `python` will be available in the Terminal/Command Prompt/PowerShell after installation. However, depending on the OS you are using, the command could be a bit different:\n",
        "  - On MacOS, the command could be `python3`\n",
        "  - On Windows, the command could be `py`"
      ]
    },
    {
      "cell_type": "markdown",
      "id": "eb721b9f-7ae5-4a9d-aaa9-912dd8eaaad8",
      "metadata": {
        "tags": [],
        "id": "eb721b9f-7ae5-4a9d-aaa9-912dd8eaaad8"
      },
      "source": [
        "## Running Python\n",
        "\n",
        "**Interactive mode**\n",
        "- We may start a Python shell using command `python` (or `python3` / `py`) in a terminal. This allows us to test-run Python code quickly.\n",
        "\n",
        "**Script mode**\n",
        "- To formally write (and run) a Python program. We put our code in a text file (with a `.py` file extension), then run it with the same python command. E.g., If the program is named `your_program.py`, we run the command `python your_program.py` to run it in the terminal.\n",
        "\n",
        "**Notebook format**\n",
        "- The Notebook format (`.ipynb`) provides a way to combine text blocks (written in markdown) and code blocks in a single document. You need to use a compatible editor/platform to view/edit it."
      ]
    },
    {
      "cell_type": "markdown",
      "id": "ca286fdd-cd1c-44d5-9c07-74e6630d79dd",
      "metadata": {
        "tags": [],
        "id": "ca286fdd-cd1c-44d5-9c07-74e6630d79dd"
      },
      "source": [
        "## Development environment\n",
        "\n",
        "- An integrated development environment (IDE) provides efficient ways to write code and test them in a unified UI.\n",
        "- **IDLE** is an IDE that comes with Python. It starts with a python shell (for interactive mode), with an option to edit files in a file editor for code writing and testing.\n",
        "  - We will use IDLE in all demonstrations."
      ]
    },
    {
      "cell_type": "markdown",
      "id": "e2cbecfc-cbf9-4870-8415-fb04ded70968",
      "metadata": {
        "tags": [],
        "id": "e2cbecfc-cbf9-4870-8415-fb04ded70968"
      },
      "source": [
        "# Introduction to Programming"
      ]
    },
    {
      "cell_type": "markdown",
      "id": "ec2a993f-ce02-42f4-b610-c3aa42d1a4fc",
      "metadata": {
        "tags": [],
        "id": "ec2a993f-ce02-42f4-b610-c3aa42d1a4fc"
      },
      "source": [
        "## What is a program?\n",
        "- A program usually defines a **sequence** of statements to be executed one by one.\n",
        "- In a sequential, synchronous program, a program defines a flow of control that performs a task.\n",
        "\n",
        "  ![Flowchart: Hello World](https://i.cs.hku.hk/~yklam2/MScPy/img/1-1/flow-chart-hello-world.svg)"
      ]
    },
    {
      "cell_type": "markdown",
      "id": "7c5130ed-6af1-467a-845d-703352bd819e",
      "metadata": {
        "tags": [],
        "id": "7c5130ed-6af1-467a-845d-703352bd819e"
      },
      "source": [
        "### Here is our first program:"
      ]
    },
    {
      "cell_type": "code",
      "execution_count": null,
      "id": "b2749a93-5ccd-436b-b6e4-645efc0274b8",
      "metadata": {
        "id": "b2749a93-5ccd-436b-b6e4-645efc0274b8",
        "outputId": "bac20b21-3492-46cf-cefa-5bd8d7d41bab"
      },
      "outputs": [
        {
          "name": "stdout",
          "output_type": "stream",
          "text": [
            "Hello, world!\n"
          ]
        }
      ],
      "source": [
        "# Hello, world\n",
        "print('Hello, world!')"
      ]
    },
    {
      "cell_type": "markdown",
      "id": "87589262-e162-49e4-b562-c04e9eae1b60",
      "metadata": {
        "tags": [],
        "id": "87589262-e162-49e4-b562-c04e9eae1b60"
      },
      "source": [
        "## Hello, world explained\n",
        "\n",
        "- There are only two lines in our first program:\n",
        "- The first line is a comment, it documents **what** the program does.\n",
        "\n",
        "```python\n",
        "# Hello, world\n",
        "```\n",
        "\n",
        "- The second line is an **output** statement, it prints the string `Hello, world!` to the console.\n",
        "\n",
        "```python\n",
        "print('Hello, world!')\n",
        "```"
      ]
    },
    {
      "cell_type": "markdown",
      "id": "5636bf1b-f93c-413c-b150-b03bd997da54",
      "metadata": {
        "tags": [],
        "id": "5636bf1b-f93c-413c-b150-b03bd997da54"
      },
      "source": [
        "## Concepts: Program state\n",
        "\n",
        "- The previous program is not very useful. We hope to produce a more interesting output. But how is that possible?\n",
        "\n",
        "  ![Flowchart: Need Program State](https://i.cs.hku.hk/~yklam2/MScPy/img/1-1/flow-chart-program-state.svg)"
      ]
    },
    {
      "cell_type": "markdown",
      "id": "26b5a410",
      "metadata": {
        "id": "26b5a410"
      },
      "source": [
        "# Variables and I/O\n",
        "\n",
        "- To allow statements in a program to work collectively, we need to maintain a **program state**. A statement in a program produces result depending on the current program state, in the process, the program state may be changed.\n",
        "\n",
        "- We use **variables** to maintain such state.\n",
        "  - Program can accept inputs to alter the state.\n",
        "  - Program can change the state by results of computation.\n",
        "  - Program can output information according to the state."
      ]
    },
    {
      "cell_type": "markdown",
      "id": "29d89e91-ff51-4b3d-9b10-26fcee8c7f84",
      "metadata": {
        "tags": [],
        "id": "29d89e91-ff51-4b3d-9b10-26fcee8c7f84"
      },
      "source": [
        "## Concepts: variables and I/O\n",
        "\n",
        "- **Variables**: maintain program state\n",
        "- **Input**: collect information from user/external\n",
        "- **Output**: provide information to user/external\n",
        "\n",
        "  ![Flowchart: Introducing Variables and I/O](https://i.cs.hku.hk/~yklam2/MScPy/img/1-1/flow-chart-variables-IO.svg)"
      ]
    },
    {
      "cell_type": "markdown",
      "id": "ae5d02e3-5f0b-4eab-951d-820a41e42fd9",
      "metadata": {
        "tags": [],
        "id": "ae5d02e3-5f0b-4eab-951d-820a41e42fd9"
      },
      "source": [
        "### Example"
      ]
    },
    {
      "cell_type": "code",
      "execution_count": null,
      "id": "7059a526-564e-490e-b745-430ce7defc02",
      "metadata": {
        "id": "7059a526-564e-490e-b745-430ce7defc02",
        "outputId": "4fda8400-590f-4a14-e009-81244128fcb5"
      },
      "outputs": [
        {
          "name": "stdout",
          "output_type": "stream",
          "text": [
            "Please input your name: K\n"
          ]
        },
        {
          "name": "stdout",
          "output_type": "stream",
          "text": [
            "Hello K\n"
          ]
        }
      ],
      "source": [
        "mystr = input('Please input your name:')\n",
        "print('Hello', mystr)"
      ]
    },
    {
      "cell_type": "markdown",
      "id": "4cd30a55-70d6-44d4-bccc-c3184e1abbaf",
      "metadata": {
        "id": "4cd30a55-70d6-44d4-bccc-c3184e1abbaf"
      },
      "source": [
        "- **`input()`** is used to ask user for an input, in the form of a string.\n",
        "- **`=`** operator is used to assign the result of `input()` to a variable named `mystr`.\n",
        "- **`print()`** is used to print some text."
      ]
    },
    {
      "cell_type": "markdown",
      "id": "d7aa5c19",
      "metadata": {
        "id": "d7aa5c19"
      },
      "source": [
        "### Another example"
      ]
    },
    {
      "cell_type": "code",
      "execution_count": null,
      "id": "f4f9d089",
      "metadata": {
        "id": "f4f9d089",
        "outputId": "2afa194b-d220-44e9-e67f-340115e7737f"
      },
      "outputs": [
        {
          "name": "stdout",
          "output_type": "stream",
          "text": [
            " 1\n"
          ]
        },
        {
          "name": "stdout",
          "output_type": "stream",
          "text": [
            "1.0 3.0\n"
          ]
        }
      ],
      "source": [
        "a = float(input())\n",
        "b = 2 * a + 1\n",
        "print(a, b)"
      ]
    },
    {
      "cell_type": "markdown",
      "id": "cbe6ec96",
      "metadata": {
        "id": "cbe6ec96"
      },
      "source": [
        "- We use `float(input())` to read a floating point value from user. Note that the input prompt is omitted.\n",
        "- It is possible to use basic arithmetic operations in Python."
      ]
    },
    {
      "cell_type": "markdown",
      "id": "6869352e",
      "metadata": {
        "id": "6869352e"
      },
      "source": [
        "# Quick Quiz\n",
        "\n",
        "What is the output of the following code?\n",
        "\n",
        "```python\n",
        "a = 34\n",
        "b = 80\n",
        "print(\"a\", \"+\", b, \"=\", a + b)\n",
        "```\n",
        "\n",
        "| A | B | C | D |\n",
        "| --- | --- | --- | --- |\n",
        "| `a + b = a + b` | `34 + b = 114` | `a + 80 = 114` | `34 + 80 = 114` |"
      ]
    },
    {
      "cell_type": "markdown",
      "id": "a9dffcd4",
      "metadata": {
        "id": "a9dffcd4"
      },
      "source": [
        "# Demonstration 1-1\n",
        "\n",
        "- Referring to the previous examples, write a program that reads **two floating-point values** and compute their harmonic mean.\n",
        "- Harmonic mean \\\\(H\\\\) of input values \\\\(a\\\\), and \\\\(b\\\\) can be calculated by the formula \\\\(\\frac{1}{H}=\\frac{1}{2}(\\frac{1}{a}+\\frac{1}{b})\\\\), or simply \\\\(H=\\frac{2ab}{a+b}\\\\).\n",
        "- Sample input/output:\n",
        "\n",
        "| Input    | Output |\n",
        "| ----     | ---    |\n",
        "| 1<br>4     | 1.6    |\n",
        "| 3<br>7     | 4.2    |\n",
        "| 3.7<br>4.3 | 3.9775 |"
      ]
    },
    {
      "cell_type": "markdown",
      "id": "5c83e3ec",
      "metadata": {
        "id": "5c83e3ec"
      },
      "source": [
        "# Self-learning topics\n",
        "\n",
        "Variable, operators and basic I/O\n",
        "- Values and variables\n",
        "- Output options\n",
        "- Arithmetic operators\n",
        "- Reading input from user"
      ]
    },
    {
      "cell_type": "markdown",
      "id": "2fe9206f",
      "metadata": {
        "id": "2fe9206f"
      },
      "source": [
        "## Values and Variables\n",
        "\n",
        "- To maintain program states, we associate values to names.\n",
        "- These names are called variables.\n",
        "- In Python, we use the **assignment operator** `=` to assign a value to a variable, for example:\n",
        "\n",
        "```python\n",
        "a = 10\n",
        "```\n",
        "\n",
        "- In many programming language, variable must be **declared** before it could be used.\n",
        "  - In Python, assigning a value to a name automatically declare the variable.\n",
        "- The **assignment operator** `=` will always assign the **value** on the right to the **variable** on the left.\n",
        "- In the above example, variable `a` is assigned a value of 10."
      ]
    },
    {
      "cell_type": "markdown",
      "id": "8da664bb",
      "metadata": {
        "id": "8da664bb"
      },
      "source": [
        "### Using variables\n",
        "\n",
        "If we assign a new value to a variable, the variable will be overwritten. For example:\n",
        "\n",
        "```python\n",
        "a = 10\n",
        "a = 20\n",
        "```\n",
        "\n",
        "In the above example, variable `a` is assigned a value of 20."
      ]
    },
    {
      "cell_type": "markdown",
      "id": "a2359a85",
      "metadata": {
        "id": "a2359a85"
      },
      "source": [
        "### Types of values\n",
        "\n",
        "A variable can be used to hold different types of values.\n",
        "Typical variable type in Python are **integer**, **floating-point**, and **string**.\n",
        "\n",
        "```python\n",
        "# integer/floating-point value\n",
        "a = 3\n",
        "b = 1.5\n",
        "# string (same for single quote or double quote)\n",
        "c = \"hello\"\n",
        "d = 'world'\n",
        "```"
      ]
    },
    {
      "cell_type": "markdown",
      "id": "93e4a3e6",
      "metadata": {
        "id": "93e4a3e6"
      },
      "source": [
        "### Boolean values\n",
        "\n",
        "Python also provide **boolean** values `True` and `False`. Their values are equivalent to integer `1` and `0` respectively.\n",
        "\n",
        "```python\n",
        "# boolean values\n",
        "e = True   # equals 1\n",
        "f = False  # equals 0\n",
        "```"
      ]
    },
    {
      "cell_type": "markdown",
      "id": "aafc435c",
      "metadata": {
        "id": "aafc435c"
      },
      "source": [
        "## Output options\n",
        "\n",
        "It is common to print a combination of values and variables. Consider the program below, the output is not desirable (try it!). Sometimes, we pefer printing values on the same line."
      ]
    },
    {
      "cell_type": "code",
      "execution_count": null,
      "id": "9c9437d1",
      "metadata": {
        "id": "9c9437d1",
        "outputId": "6cb783e0-a862-44d7-ddd1-43ae799be75d"
      },
      "outputs": [
        {
          "name": "stdout",
          "output_type": "stream",
          "text": [
            "1\n",
            "+\n",
            "2\n",
            "=\n",
            "3\n"
          ]
        }
      ],
      "source": [
        "a = 1\n",
        "b = 2\n",
        "c = 3\n",
        "print(a)\n",
        "print('+')\n",
        "print(b)\n",
        "print('=')\n",
        "print(c)"
      ]
    },
    {
      "cell_type": "markdown",
      "id": "0460b227",
      "metadata": {
        "id": "0460b227"
      },
      "source": [
        "### Output multiple values\n",
        "\n",
        "We can print a list of values, separated by **commas** when we use `print()`, a space will be added between the values:"
      ]
    },
    {
      "cell_type": "code",
      "execution_count": null,
      "id": "f0130f7e",
      "metadata": {
        "id": "f0130f7e",
        "outputId": "f49e73ae-fd0e-4be4-e966-42a5d9c352c7"
      },
      "outputs": [
        {
          "name": "stdout",
          "output_type": "stream",
          "text": [
            "1 + 2 = 3\n"
          ]
        }
      ],
      "source": [
        "a = 1\n",
        "b = 2\n",
        "c = 3\n",
        "print(a, '+', b, '=', c)"
      ]
    },
    {
      "cell_type": "markdown",
      "id": "dd78220a",
      "metadata": {
        "id": "dd78220a"
      },
      "source": [
        "### Separator option: `sep`\n",
        "\n",
        "We can specify the **`sep`** option in `print()` to specify the separator to be used when printing multiple values."
      ]
    },
    {
      "cell_type": "code",
      "execution_count": null,
      "id": "c3f389d4",
      "metadata": {
        "id": "c3f389d4",
        "outputId": "da989760-112d-447b-d772-8c3fcd5708eb"
      },
      "outputs": [
        {
          "name": "stdout",
          "output_type": "stream",
          "text": [
            "1 2 3\n",
            "1,2,3\n"
          ]
        }
      ],
      "source": [
        "print(1, 2, 3)\n",
        "print(1, 2, 3, sep=',')"
      ]
    },
    {
      "cell_type": "markdown",
      "id": "f72a03aa",
      "metadata": {
        "id": "f72a03aa"
      },
      "source": [
        "### Ending option: `end`\n",
        "\n",
        "Another option for `print()` is **`end`**, which control how to end the printing.\n",
        "By default a **new line** is inserted."
      ]
    },
    {
      "cell_type": "code",
      "execution_count": null,
      "id": "e9b83939",
      "metadata": {
        "id": "e9b83939",
        "outputId": "3657c978-d677-4a9d-e9b9-fd3b09b9b398"
      },
      "outputs": [
        {
          "name": "stdout",
          "output_type": "stream",
          "text": [
            "1 + 2 = 3\n"
          ]
        }
      ],
      "source": [
        "print(1, end=' + ')\n",
        "print(2, end=' = ')\n",
        "print(3)"
      ]
    },
    {
      "cell_type": "markdown",
      "id": "351269f2",
      "metadata": {
        "id": "351269f2"
      },
      "source": [
        "Sometimes it will be usful to end with an empty string. For example, when we want to output a single line with multiple print statements:"
      ]
    },
    {
      "cell_type": "code",
      "execution_count": null,
      "id": "fd54767c",
      "metadata": {
        "id": "fd54767c",
        "outputId": "2fd3748a-f194-47a2-8ad3-d56b9076e50f"
      },
      "outputs": [
        {
          "name": "stdout",
          "output_type": "stream",
          "text": [
            "123\n"
          ]
        }
      ],
      "source": [
        "print(1, end='')\n",
        "print(2, end='')\n",
        "print(3)"
      ]
    },
    {
      "cell_type": "markdown",
      "id": "eb474c36",
      "metadata": {
        "id": "eb474c36"
      },
      "source": [
        "## Arithmetic operators\n",
        "\n",
        "For integer and floating point numbers, we can use the four **arithmetic operators**: `+`, `-`, `*` (multiply), and `/` (divide). For example:"
      ]
    },
    {
      "cell_type": "code",
      "execution_count": null,
      "id": "3952af7e",
      "metadata": {
        "id": "3952af7e",
        "outputId": "c01e2694-238f-4cc2-8ff8-5cc74706d48a"
      },
      "outputs": [
        {
          "name": "stdout",
          "output_type": "stream",
          "text": [
            "3\n"
          ]
        }
      ],
      "source": [
        "print(1 + 2)"
      ]
    },
    {
      "cell_type": "code",
      "execution_count": null,
      "id": "3c8058e2",
      "metadata": {
        "id": "3c8058e2",
        "outputId": "0165f35f-91ac-4215-b773-d0df3a9c9299"
      },
      "outputs": [
        {
          "name": "stdout",
          "output_type": "stream",
          "text": [
            "8.5\n"
          ]
        }
      ],
      "source": [
        "print(10 - 1.5)"
      ]
    },
    {
      "cell_type": "code",
      "execution_count": null,
      "id": "dc9c0562",
      "metadata": {
        "id": "dc9c0562",
        "outputId": "ec903e7a-06cc-4222-bcc1-dc2f9c7edad6"
      },
      "outputs": [
        {
          "name": "stdout",
          "output_type": "stream",
          "text": [
            "12\n"
          ]
        }
      ],
      "source": [
        "print(2 * 6)"
      ]
    },
    {
      "cell_type": "code",
      "execution_count": null,
      "id": "1558a82d",
      "metadata": {
        "id": "1558a82d",
        "outputId": "6c9d1c0a-4ee5-4e9b-b5a3-b8ad482234fd"
      },
      "outputs": [
        {
          "name": "stdout",
          "output_type": "stream",
          "text": [
            "1.5\n"
          ]
        }
      ],
      "source": [
        "print(9 / 6)"
      ]
    },
    {
      "cell_type": "markdown",
      "id": "68fd13c0",
      "metadata": {
        "id": "68fd13c0"
      },
      "source": [
        "### Order of execution (operator precedence)\n",
        "\n",
        "When there are multiple operators in the same statement, the order of execution follows a certain rules. For the basic arithmetic operators, it follows the basic mathematics rules (multiplication and division first), and is processed left-to-right."
      ]
    },
    {
      "cell_type": "code",
      "execution_count": null,
      "id": "2a558750",
      "metadata": {
        "id": "2a558750",
        "outputId": "07bd4603-c83b-465c-b364-37d9058cd5a7"
      },
      "outputs": [
        {
          "name": "stdout",
          "output_type": "stream",
          "text": [
            "0.6\n"
          ]
        }
      ],
      "source": [
        "print(1 + 2 * (3 - 4) / 5)"
      ]
    },
    {
      "cell_type": "markdown",
      "id": "758f3e2d",
      "metadata": {
        "id": "758f3e2d"
      },
      "source": [
        "If unsure, always add brackets to specify the order of execution.\n",
        "\n",
        "Reference: <https://docs.python.org/3/reference/expressions.html#operator-precedence>"
      ]
    },
    {
      "cell_type": "markdown",
      "id": "d4d128b6",
      "metadata": {
        "id": "d4d128b6"
      },
      "source": [
        "### Floating point division and floor division\n",
        "\n",
        "Operator `/` always results in a **floating point number**, even when both operands are integers."
      ]
    },
    {
      "cell_type": "code",
      "execution_count": null,
      "id": "90ccf8d6",
      "metadata": {
        "id": "90ccf8d6",
        "outputId": "c2da4df4-c4f4-4c99-d772-c05c65038fce"
      },
      "outputs": [
        {
          "name": "stdout",
          "output_type": "stream",
          "text": [
            "10.0\n"
          ]
        }
      ],
      "source": [
        "a = 100\n",
        "b = 10\n",
        "print(a / b)"
      ]
    },
    {
      "cell_type": "markdown",
      "id": "69da4dd4",
      "metadata": {
        "id": "69da4dd4"
      },
      "source": [
        "If **integer division** is needed, we can use the floor division operator (`//`) instead.\n",
        "This operator will perform division and return the floor of the result.\n",
        "For example:"
      ]
    },
    {
      "cell_type": "code",
      "execution_count": null,
      "id": "7a5054e2",
      "metadata": {
        "id": "7a5054e2",
        "outputId": "9ca99325-1453-4159-d806-cf78b5a0224d"
      },
      "outputs": [
        {
          "name": "stdout",
          "output_type": "stream",
          "text": [
            "1\n"
          ]
        }
      ],
      "source": [
        "print(9 // 6)"
      ]
    },
    {
      "cell_type": "code",
      "execution_count": null,
      "id": "4e80e872",
      "metadata": {
        "id": "4e80e872",
        "outputId": "16916f9c-33bb-4d53-cc4c-2fb945ee53b2"
      },
      "outputs": [
        {
          "name": "stdout",
          "output_type": "stream",
          "text": [
            "10\n"
          ]
        }
      ],
      "source": [
        "print(100 // 10)"
      ]
    },
    {
      "cell_type": "markdown",
      "id": "8eb597d9",
      "metadata": {
        "id": "8eb597d9"
      },
      "source": [
        "### Power operator\n",
        "\n",
        "The **power operator** `**` calculates and returns the value of a base raised to a specific power.\n",
        "\n",
        "Note: the `^` operator in Python is another operator, which will be discussed later (optional)."
      ]
    },
    {
      "cell_type": "code",
      "execution_count": null,
      "id": "314d2582",
      "metadata": {
        "id": "314d2582",
        "outputId": "eddfe41a-d071-40f9-8837-1f65bc0fbbbc"
      },
      "outputs": [
        {
          "name": "stdout",
          "output_type": "stream",
          "text": [
            "100\n"
          ]
        }
      ],
      "source": [
        "print(10 ** 2)"
      ]
    },
    {
      "cell_type": "code",
      "execution_count": null,
      "id": "30b0f091",
      "metadata": {
        "id": "30b0f091",
        "outputId": "ee667597-85fb-4673-b65b-295d625f740d"
      },
      "outputs": [
        {
          "name": "stdout",
          "output_type": "stream",
          "text": [
            "1024\n"
          ]
        }
      ],
      "source": [
        "print(2 ** 10)"
      ]
    },
    {
      "cell_type": "markdown",
      "id": "babdd185",
      "metadata": {
        "id": "babdd185"
      },
      "source": [
        "### Modulo operator\n",
        "\n",
        "The **modulo** operator `%` calculates and returns the **remainder** of dividing first operand by the second operand.\n",
        "\n",
        "The two operators, `//` and `%` can be used to find the quotient and remainer of a division operation.\n",
        "\n",
        "If, `q = a // b` and `r = a % b`, then `a = b * q + r`.\n",
        "\n",
        "**This operator is extremely important in computer science.** (why?)"
      ]
    },
    {
      "cell_type": "code",
      "execution_count": null,
      "id": "39e02e46",
      "metadata": {
        "id": "39e02e46",
        "outputId": "cefdb019-3434-4f06-adc3-bc45273b8f9e"
      },
      "outputs": [
        {
          "name": "stdout",
          "output_type": "stream",
          "text": [
            "1\n"
          ]
        }
      ],
      "source": [
        "print(100 % 3)"
      ]
    },
    {
      "cell_type": "code",
      "execution_count": null,
      "id": "ad9fbe72",
      "metadata": {
        "id": "ad9fbe72",
        "outputId": "9914519b-c512-4a18-c4d3-a5f3c5df5e22"
      },
      "outputs": [
        {
          "name": "stdout",
          "output_type": "stream",
          "text": [
            "2\n"
          ]
        }
      ],
      "source": [
        "print(100 % 7)"
      ]
    },
    {
      "cell_type": "markdown",
      "id": "82ef8628",
      "metadata": {
        "id": "82ef8628"
      },
      "source": [
        "## Reading input"
      ]
    },
    {
      "cell_type": "markdown",
      "id": "dea72fc5",
      "metadata": {
        "id": "dea72fc5"
      },
      "source": [
        "The `input()` function will always read a string from user."
      ]
    },
    {
      "cell_type": "code",
      "execution_count": null,
      "id": "312a5380",
      "metadata": {
        "id": "312a5380",
        "outputId": "8d3eb8e6-69b6-4418-e8ed-82b6d115837e"
      },
      "outputs": [
        {
          "name": "stdout",
          "output_type": "stream",
          "text": [
            "Please input a string: Hi!\n"
          ]
        },
        {
          "name": "stdout",
          "output_type": "stream",
          "text": [
            "Hi!\n"
          ]
        }
      ],
      "source": [
        "a = input('Please input a string:')\n",
        "print(a)"
      ]
    },
    {
      "cell_type": "markdown",
      "id": "24092e24",
      "metadata": {
        "id": "24092e24"
      },
      "source": [
        "The part `'Please input a string:'` is a message to prompt user for input. It can be omitted:"
      ]
    },
    {
      "cell_type": "code",
      "execution_count": null,
      "id": "b8895a71",
      "metadata": {
        "id": "b8895a71",
        "outputId": "80c79d02-6046-45f6-c423-ebc289a17fa2"
      },
      "outputs": [
        {
          "name": "stdout",
          "output_type": "stream",
          "text": [
            " Hi!\n"
          ]
        },
        {
          "name": "stdout",
          "output_type": "stream",
          "text": [
            "Hi!\n"
          ]
        }
      ],
      "source": [
        "a = input()\n",
        "print(a)"
      ]
    },
    {
      "cell_type": "markdown",
      "id": "52cc5d9e",
      "metadata": {
        "id": "52cc5d9e"
      },
      "source": [
        "### Reading integer or floating-point values\n",
        "\n",
        "As `input()` will always return a string, before we can use an input value in arithmetic calculation, we need to convert it to integer or floating point values. For example:"
      ]
    },
    {
      "cell_type": "code",
      "execution_count": null,
      "id": "eb0b1c2c",
      "metadata": {
        "id": "eb0b1c2c",
        "outputId": "ea2643d2-d3a7-47a2-9012-8d6e5b726b23"
      },
      "outputs": [
        {
          "name": "stdout",
          "output_type": "stream",
          "text": [
            " 1\n",
            " 2.3\n"
          ]
        },
        {
          "name": "stdout",
          "output_type": "stream",
          "text": [
            "1 + 2.3 = 3.3\n"
          ]
        }
      ],
      "source": [
        "a = int(input())\n",
        "b = float(input())\n",
        "print(a, '+', b, '=', a + b)"
      ]
    },
    {
      "cell_type": "markdown",
      "id": "b466c511",
      "metadata": {
        "id": "b466c511"
      },
      "source": [
        "## Self-evaluation exercises (1-1)\n",
        "\n",
        "**Quiz**\n",
        "- You can answer these questions on Moodle.\n",
        "- Moodle expect exact answers, please remove all spaces if the question asks for code snippet.\n",
        "\n",
        "**Programming Exercise**\n",
        "- You can attempt these exercises on VPL (on Moodle).\n",
        "- When doing exercises on VPL, you must follow the exact input/output requirement. You must also press the \"evaluate\" button to evaluate your work for it."
      ]
    },
    {
      "cell_type": "markdown",
      "id": "81d52a4d",
      "metadata": {
        "id": "81d52a4d"
      },
      "source": [
        "## Quiz 1-1\n",
        "\n",
        "1. Name the operator `//`.\n",
        "2. What is the output of the following program? Try to derive the output without running the code.\n",
        "\n",
        "```python\n",
        "print('Hello', 'oh', sep=',', end=' ')\n",
        "print('my', 'world', sep='', end='!')\n",
        "```"
      ]
    },
    {
      "cell_type": "markdown",
      "id": "f2f62e02",
      "metadata": {
        "id": "f2f62e02"
      },
      "source": [
        "## Exercise 1-1\n",
        "\n",
        "- Write a program that convert time period (in seconds) to the long format represented by the pattern `?h ?m ?s`.\n",
        "- Sample input/output:\n",
        "\n",
        "| Input   | Output |\n",
        "| ----    | ---    |\n",
        "| 100     | 0h 1m 40s |\n",
        "| 10000   | 2h 46m 40s |\n",
        "| 1000000 | 277h 46m 40s |"
      ]
    },
    {
      "cell_type": "markdown",
      "id": "5cdef390",
      "metadata": {
        "id": "5cdef390"
      },
      "source": [
        "# Optional topics\n",
        "\n",
        "These topics are optional. You are encourage to read them when you have time to understand more about the Python programming language.\n",
        "\n",
        "- Bitwise operators\n",
        "- Type hint"
      ]
    },
    {
      "cell_type": "markdown",
      "id": "66c35ac5",
      "metadata": {
        "id": "66c35ac5"
      },
      "source": [
        "## Bitwise operators"
      ]
    },
    {
      "cell_type": "markdown",
      "id": "aa8b1d09",
      "metadata": {
        "id": "aa8b1d09"
      },
      "source": [
        "### Number base\n",
        "\n",
        "Apart from base 10 numbers, we can define numbers with base 2, 8 and 16 in Python.\n",
        "- Base 2 number is prefixed by pattern `0b`.\n",
        "- Base 8 number is prefixed by pattern `0o`.\n",
        "- Base 16 number is prefixed by pattern `0x`."
      ]
    },
    {
      "cell_type": "code",
      "execution_count": null,
      "id": "e1f09e92",
      "metadata": {
        "id": "e1f09e92",
        "outputId": "e066d17f-32ec-47a2-9feb-5345000a8d8c"
      },
      "outputs": [
        {
          "name": "stdout",
          "output_type": "stream",
          "text": [
            "212\n"
          ]
        }
      ],
      "source": [
        "print(0b011010100)"
      ]
    },
    {
      "cell_type": "code",
      "execution_count": null,
      "id": "77d1bfcf",
      "metadata": {
        "id": "77d1bfcf",
        "outputId": "d9a2c609-0dff-4a22-83db-3db32168b74d"
      },
      "outputs": [
        {
          "name": "stdout",
          "output_type": "stream",
          "text": [
            "212\n"
          ]
        }
      ],
      "source": [
        "print(0o324)"
      ]
    },
    {
      "cell_type": "code",
      "execution_count": null,
      "id": "d029b6ef",
      "metadata": {
        "id": "d029b6ef",
        "outputId": "170b561d-2420-4d55-84b1-3373d35dad1a"
      },
      "outputs": [
        {
          "name": "stdout",
          "output_type": "stream",
          "text": [
            "212\n"
          ]
        }
      ],
      "source": [
        "print(0xD4)"
      ]
    },
    {
      "cell_type": "markdown",
      "id": "f80de2a2",
      "metadata": {
        "id": "f80de2a2"
      },
      "source": [
        "### Binary representation\n",
        "\n",
        "- In a computer, all values are stored as binary numbers.\n",
        "- So number `212` is internally stored as `0b11010100`.\n",
        "- These numbers are left-padded with zeros to match with the bit-length.\n",
        "Therefore the number `212` is actually stored as `0b00...011010100`.\n",
        "- Note that in a signed representation, numbers are stored in [2's complement](https://en.wikipedia.org/wiki/Two%27s_complement) representation."
      ]
    },
    {
      "cell_type": "markdown",
      "id": "3c013167",
      "metadata": {
        "id": "3c013167"
      },
      "source": [
        "### Bitwise operations\n",
        "\n",
        "Bitwise operations apply on numbers bit by bit, for example, the AND operation (`&`) on values 12 (`0b01100`) and 10 (`0b01010`) will be:\n",
        "\n",
        "```text\n",
        "  00...01100 (12)\n",
        "& 00...01010 (10)\n",
        "------------------\n",
        "  00...01000 ( 8)\n",
        "```\n",
        "\n",
        "Only one of the bits above will give a result of 1 as both operands are 1."
      ]
    },
    {
      "cell_type": "markdown",
      "id": "39a36755",
      "metadata": {
        "id": "39a36755"
      },
      "source": [
        "### Bitwise logical operators"
      ]
    },
    {
      "cell_type": "markdown",
      "id": "3de60164",
      "metadata": {
        "id": "3de60164"
      },
      "source": [
        "#### AND / OR / XOR\n",
        "\n",
        "Bitwise logical operators includes AND (`&`), OR (`|`), and [XOR](https://en.wikipedia.org/wiki/Exclusive_or) (`^`), for example:"
      ]
    },
    {
      "cell_type": "code",
      "execution_count": null,
      "id": "e083e72e",
      "metadata": {
        "id": "e083e72e",
        "outputId": "68b8dda6-83f9-49fc-d00d-90c892cb109e"
      },
      "outputs": [
        {
          "name": "stdout",
          "output_type": "stream",
          "text": [
            "8 14 6\n"
          ]
        }
      ],
      "source": [
        "a = 0b01100\n",
        "b = 0b01010\n",
        "print(a & b, a | b, a ^ b)"
      ]
    },
    {
      "cell_type": "markdown",
      "id": "ab15145f",
      "metadata": {
        "id": "ab15145f"
      },
      "source": [
        "#### NOT\n",
        "\n",
        "There is also the negation operator (`~`) which inverts all the bits.\n",
        "For example, positive value `01100` (`00...01100`) will becomes `11...10011`.\n",
        "\n",
        "In [2's complement](https://en.wikipedia.org/wiki/Two%27s_complement) representation. The above value equals `-13`."
      ]
    },
    {
      "cell_type": "code",
      "execution_count": null,
      "id": "40529134",
      "metadata": {
        "id": "40529134",
        "outputId": "4c348a47-96dd-454b-d602-8cd322909584"
      },
      "outputs": [
        {
          "name": "stdout",
          "output_type": "stream",
          "text": [
            "-13 -11\n"
          ]
        }
      ],
      "source": [
        "a = 0b01100\n",
        "b = 0b01010\n",
        "print(~a, ~b)"
      ]
    },
    {
      "cell_type": "markdown",
      "id": "ed3bf618",
      "metadata": {
        "id": "ed3bf618"
      },
      "source": [
        "### Shift Operators\n",
        "\n",
        "Shift operators shift the binary pattern to the left (`<<`) or right (`>>`). For example:"
      ]
    },
    {
      "cell_type": "code",
      "execution_count": null,
      "id": "be5c75ce",
      "metadata": {
        "id": "be5c75ce",
        "outputId": "7b701fc7-dbbb-47ab-fe11-788f660646e0"
      },
      "outputs": [
        {
          "name": "stdout",
          "output_type": "stream",
          "text": [
            "3 26\n"
          ]
        }
      ],
      "source": [
        "x = 0b01101\n",
        "print(x >> 2, x << 1)"
      ]
    },
    {
      "cell_type": "markdown",
      "id": "d1e6cbc3",
      "metadata": {
        "id": "d1e6cbc3"
      },
      "source": [
        "`x >> 2` shifts value `0b00...01101` (13) two positions to the right, therefore the result is `0b00...011` (3). Similarly, `x << 1` shifts the same value one position to the left, so the result is `0b00...011010` (26)."
      ]
    },
    {
      "cell_type": "markdown",
      "id": "70e26914",
      "metadata": {
        "id": "70e26914"
      },
      "source": [
        "## Type hint"
      ]
    },
    {
      "cell_type": "markdown",
      "id": "e404026d",
      "metadata": {
        "id": "e404026d"
      },
      "source": [
        "### Every value has a \"type\"\n",
        "\n",
        "We can check the type of a value using `type()`."
      ]
    },
    {
      "cell_type": "code",
      "execution_count": null,
      "id": "c27f4ea7",
      "metadata": {
        "id": "c27f4ea7",
        "outputId": "00940dd1-1050-4f5b-e99a-181ce57b4cfd"
      },
      "outputs": [
        {
          "name": "stdout",
          "output_type": "stream",
          "text": [
            "<class 'int'>\n",
            "<class 'float'>\n",
            "<class 'str'>\n"
          ]
        }
      ],
      "source": [
        "print(type(1))\n",
        "print(type(3.14))\n",
        "print(type('Hello'))"
      ]
    },
    {
      "cell_type": "markdown",
      "id": "32fe25bd",
      "metadata": {
        "id": "32fe25bd"
      },
      "source": [
        "### Variable type\n",
        "\n",
        "When we assign a value to a variable, the type of variable changes accordingly."
      ]
    },
    {
      "cell_type": "code",
      "execution_count": null,
      "id": "88644d3b",
      "metadata": {
        "id": "88644d3b",
        "outputId": "4c7e2549-a663-4b24-c3e5-a345da6db494"
      },
      "outputs": [
        {
          "name": "stdout",
          "output_type": "stream",
          "text": [
            "<class 'int'>\n",
            "<class 'float'>\n",
            "<class 'str'>\n"
          ]
        }
      ],
      "source": [
        "a = 1\n",
        "print(type(a))\n",
        "a = 3.14\n",
        "print(type(a))\n",
        "a = 'Hello'\n",
        "print(type(a))"
      ]
    },
    {
      "cell_type": "markdown",
      "id": "6751e2f8",
      "metadata": {
        "id": "6751e2f8"
      },
      "source": [
        "### Type hint\n",
        "\n",
        "It is always advised to keep the type of a variable unchanged. In many programming languages, you have to declare the type for a variable before you can use it. In Python, it is not necessary but possible."
      ]
    },
    {
      "cell_type": "code",
      "execution_count": null,
      "id": "bfa808ad",
      "metadata": {
        "id": "bfa808ad",
        "outputId": "6bbd8842-6864-4aa0-9b33-844b5d6f754a"
      },
      "outputs": [
        {
          "name": "stdout",
          "output_type": "stream",
          "text": [
            "<class 'int'> <class 'float'> <class 'str'>\n"
          ]
        }
      ],
      "source": [
        "myInt: int = 1\n",
        "myFloat: float = 3.14\n",
        "myStr: str = 'Hello'\n",
        "print(type(myInt), type(myFloat), type(myStr))"
      ]
    },
    {
      "cell_type": "markdown",
      "id": "77006742",
      "metadata": {
        "id": "77006742"
      },
      "source": [
        "### But it's just a \"hint\"\n",
        "\n",
        "Type hint has no effect during code execution, it is a hint for developers and for the IDE to detect possible error in your program. Variable type will still be changed if you assign value of diffeent type to it."
      ]
    },
    {
      "cell_type": "code",
      "execution_count": null,
      "id": "e368349f",
      "metadata": {
        "id": "e368349f",
        "outputId": "31e0b91a-7e5c-44ce-e699-584a8cffb7ed"
      },
      "outputs": [
        {
          "name": "stdout",
          "output_type": "stream",
          "text": [
            "<class 'float'>\n"
          ]
        }
      ],
      "source": [
        "myInt: int = 1\n",
        "myInt = 3.14\n",
        "print(type(myInt))"
      ]
    }
  ],
  "metadata": {
    "celltoolbar": "Slideshow",
    "kernelspec": {
      "display_name": "Python 3 (ipykernel)",
      "language": "python",
      "name": "python3"
    },
    "language_info": {
      "codemirror_mode": {
        "name": "ipython",
        "version": 3
      },
      "file_extension": ".py",
      "mimetype": "text/x-python",
      "name": "python",
      "nbconvert_exporter": "python",
      "pygments_lexer": "ipython3",
      "version": "3.12.4"
    },
    "toc-showmarkdowntxt": false,
    "vscode": {
      "interpreter": {
        "hash": "a06fb0db943f72dfcea2ce9262aebb372cadca1ea96c4ba4990e9f2d78b6f233"
      }
    },
    "colab": {
      "provenance": [],
      "include_colab_link": true
    }
  },
  "nbformat": 4,
  "nbformat_minor": 5
}